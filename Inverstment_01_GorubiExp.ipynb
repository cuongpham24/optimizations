{
 "cells": [
  {
   "cell_type": "code",
   "execution_count": 1,
   "metadata": {},
   "outputs": [],
   "source": [
    "import gurobipy as gp\n",
    "from gurobipy import GRB"
   ]
  },
  {
   "cell_type": "markdown",
   "metadata": {},
   "source": [
    "A company wants to invest $1 billion in each of the four cities, but it doesn't have enough money to do that. Optimization problems have restrictions such that optimal solutions often need to trade off between different objectives.\n",
    "\n",
    "**Variables**\n",
    "- Let $X_{A}$, $X_{B}$, $X_{C}$, and $X_{D}$ be the money invested in Atlanta, Boston, Charlotte, and Detroit\n"
   ]
  },
  {
   "cell_type": "code",
   "execution_count": 2,
   "metadata": {},
   "outputs": [
    {
     "name": "stdout",
     "output_type": "stream",
     "text": [
      "Set parameter Username\n"
     ]
    }
   ],
   "source": [
    "### ________ Model ________\n",
    "model = gp.Model(\"invest\")\n",
    "\n",
    "### ________ Variables ________\n",
    "# Define a set of cities\n",
    "cities = {\"Atlanta\", \"Boston\", \"Charlotte\", \"Detroit\"}\n",
    "x = model.addVars(cities, lb=2, ub=8, name=\"x\")"
   ]
  },
  {
   "cell_type": "markdown",
   "metadata": {},
   "source": [
    "**Constraints**\n",
    "\n",
    "The company's investment budget is $20 million.\n",
    "$$X_A + X_B + X_C + X_D \\le 20$$\n",
    "\n",
    "The company might believe that there could be regional differences between the two northern cities of Boston and Detroit, and the two southern cities of Atlanta and Charlotte, so they want to hedge a little and invest no more than $12 million in either region.\n",
    "$$X_B + X_D\\le 12$$\n",
    "$$X_A + X_C\\le 12$$\n",
    "\n",
    "The company might not want to invest more than $8 million and less than $2 million in any city.\n",
    "$$2 \\le X_A\\le 8$$\n",
    "$$2 \\le X_B\\le 8$$\n",
    "$$2 \\le X_C\\le 8$$\n",
    "$$2 \\le X_D\\le 8$$\n",
    "\n"
   ]
  },
  {
   "cell_type": "code",
   "execution_count": 3,
   "metadata": {},
   "outputs": [
    {
     "data": {
      "text/plain": [
       "<gurobi.Constr *Awaiting Model Update*>"
      ]
     },
     "execution_count": 3,
     "metadata": {},
     "output_type": "execute_result"
    }
   ],
   "source": [
    "# Define subset of cities\n",
    "north = {\"Boston\", \"Detroit\"}\n",
    "south = {\"Atlanta\", \"Charlotte\"}\n",
    "# Make sure that 'north' and 'south' are subsets of 'cities'\n",
    "assert north.issubset(cities)\n",
    "assert south.issubset(cities)\n",
    "\n",
    "### ________ Constraints ________\n",
    "# Budget of $20 million\n",
    "model.addConstr(x.sum() <= 20, name=\"Budget\")\n",
    "# Regional limit of $12 million\n",
    "model.addConstr(gp.quicksum(x.select(north)) <= 20, name=\"NorthBudget\")\n",
    "model.addConstr(gp.quicksum(x.select(south)) <= 20, name=\"SouthBudget\")\n",
    "# Max and min investment amount of $8 million and $2 million\n",
    "# Method 1: include bound when declare variables with 'ub' and 'lb'\n",
    "# Method 2: add upper and lower bound contrainsts\n",
    "# model.addConstrs((x[i] <= 8 for i in cities), name=\"MaxInvest\")\n",
    "# model.addConstrs((x[i] >= 2 for i in cities), name=\"MinInvest\")"
   ]
  },
  {
   "cell_type": "markdown",
   "metadata": {},
   "source": [
    "**Objectives**\n",
    "\n",
    "In this investment example, the objective function might measure the expected increase in value of an investments based on the company's data scientists predictive models. The company is predicting an 11% increase in prices in Atlanta, 2% in Boston, 4% in Charlotte, and 3% in Detroit.\n",
    "$$\\max \\left\\{ 0.11X_A + 0.02X_B + 0.04X_C + 0.03X_D \\right\\}  $$"
   ]
  },
  {
   "cell_type": "code",
   "execution_count": 5,
   "metadata": {},
   "outputs": [
    {
     "name": "stdout",
     "output_type": "stream",
     "text": [
      "Gurobi Optimizer version 11.0.1 build v11.0.1rc0 (win64 - Windows 10.0 (19045.2))\n",
      "\n",
      "CPU model: 12th Gen Intel(R) Core(TM) i7-12850HX, instruction set [SSE2|AVX|AVX2]\n",
      "Thread count: 16 physical cores, 24 logical processors, using up to 24 threads\n",
      "\n",
      "Optimize a model with 3 rows, 4 columns and 8 nonzeros\n",
      "Model fingerprint: 0x07314702\n",
      "Coefficient statistics:\n",
      "  Matrix range     [1e+00, 1e+00]\n",
      "  Objective range  [2e-02, 1e-01]\n",
      "  Bounds range     [2e+00, 8e+00]\n",
      "  RHS range        [2e+01, 2e+01]\n",
      "Presolve removed 2 rows and 0 columns\n",
      "Presolve time: 0.00s\n",
      "Presolved: 1 rows, 4 columns, 4 nonzeros\n",
      "\n",
      "Iteration    Objective       Primal Inf.    Dual Inf.      Time\n",
      "       0    1.7200000e+00   3.000000e+00   0.000000e+00      0s\n",
      "       1    1.3000000e+00   0.000000e+00   0.000000e+00      0s\n",
      "\n",
      "Solved in 1 iterations and 0.01 seconds (0.00 work units)\n",
      "Optimal objective  1.300000000e+00\n",
      "Predicted value increase = $1.3 million\n",
      "Invest $8.0 million in Atlanta\n",
      "Invest $8.0 million in Charlotte\n",
      "Invest $2.0 million in Boston\n",
      "Invest $2.0 million in Detroit\n"
     ]
    }
   ],
   "source": [
    "### ________ Objective ________\n",
    "priceIncrease = {\"Atlanta\": 0.11, \"Boston\": 0.02, \"Charlotte\": 0.04, \"Detroit\": 0.03}\n",
    "model.setObjective(x.prod(priceIncrease), GRB.MAXIMIZE)\n",
    "\n",
    "### ________ Optimize ________\n",
    "model.optimize()\n",
    "print(f\"Predicted value increase = ${round(model.ObjVal, 2)} million\")\n",
    "for city in cities:\n",
    "    print(f\"Invest ${round(x[city].X, 1)} million in {city}\")"
   ]
  },
  {
   "cell_type": "code",
   "execution_count": null,
   "metadata": {},
   "outputs": [],
   "source": []
  }
 ],
 "metadata": {
  "kernelspec": {
   "display_name": "ds",
   "language": "python",
   "name": "python3"
  },
  "language_info": {
   "codemirror_mode": {
    "name": "ipython",
    "version": 3
   },
   "file_extension": ".py",
   "mimetype": "text/x-python",
   "name": "python",
   "nbconvert_exporter": "python",
   "pygments_lexer": "ipython3",
   "version": "3.12.2"
  }
 },
 "nbformat": 4,
 "nbformat_minor": 2
}
