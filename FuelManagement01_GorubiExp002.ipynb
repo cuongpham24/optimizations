{
 "cells": [
  {
   "cell_type": "markdown",
   "metadata": {},
   "source": [
    "# Problem Statement\n",
    "\n",
    "Each day an airline has planes flying on the following route a flight from Los Angeles to Houston, then from Houston to New York, then New York to Miami, and finally from Miami back to Los Angeles. \n",
    "\n",
    "<center><img src=\"./Pictures/Fuelmap.png\" align=\"center\"/></center>\n",
    "\n",
    "To fly those routes, the airline needs to purchase jet fuel for the planes, and that fuel can be purchased at any of the four airports, the ones in Los Angeles, Houston, New York and Miami. The jet fuel prices in each city is \\$0.88 per gallon in Los Angeles, \\$0.15 per gallon in Houston, \\$1.05 per gallon in New York, and \\$0.95 per gallon in Miami.\n",
    "\n",
    "Jet fuel, like water, is heavy, and the heavier the plane is, the more jet fuel is required for it to take off and fly. So buying extra fuel in Houston might save money on purchasing, but it also means the airline would have to buy extra fuel to be able to carry all that fuel that it purchased. There's a capacity of the fuel tank. A plane can't carry more than 14,000 gallons of fuel. Second to provide a safety margin, planes need to land with at least 600 gallons of fuel still left in the tank. And third, in this example, there's a restriction that no more than 12,000 gallons of fuel can be purchased per airplane at each stop.\n",
    "\n",
    "Note: A simplified formula for the amount of fuel used is that the number of gallons used per mile on each flight is approximately one plus 1/2000 of the average fuel level on the flight, where the average fuel level on the flight is estimated as the average of the starting and ending fuels."
   ]
  },
  {
   "cell_type": "markdown",
   "metadata": {},
   "source": [
    "# Optimization Model\n",
    "\n",
    "**Data**\n",
    "- Cities be $i$ for $i \\in {LA, HOU, NY, MIA}$\n",
    "- Fuel cost in city $i$ be $c_i$\n",
    "- Tank capacity, safety margin, and purchase limit be $T$, $S$, and $M$ respectively\n",
    "- Distance from $i$ to the next city be $d_i$"
   ]
  },
  {
   "cell_type": "code",
   "execution_count": 1,
   "metadata": {},
   "outputs": [],
   "source": [
    "# Import libraries\n",
    "import pandas as pd\n",
    "import gurobipy as gp\n",
    "from gurobipy import GRB"
   ]
  },
  {
   "cell_type": "code",
   "execution_count": 2,
   "metadata": {},
   "outputs": [
    {
     "data": {
      "text/html": [
       "<div>\n",
       "<style scoped>\n",
       "    .dataframe tbody tr th:only-of-type {\n",
       "        vertical-align: middle;\n",
       "    }\n",
       "\n",
       "    .dataframe tbody tr th {\n",
       "        vertical-align: top;\n",
       "    }\n",
       "\n",
       "    .dataframe thead th {\n",
       "        text-align: right;\n",
       "    }\n",
       "</style>\n",
       "<table border=\"1\" class=\"dataframe\">\n",
       "  <thead>\n",
       "    <tr style=\"text-align: right;\">\n",
       "      <th></th>\n",
       "      <th>city</th>\n",
       "      <th>fuel_cost</th>\n",
       "      <th>predecessor</th>\n",
       "      <th>Unnamed: 3</th>\n",
       "      <th>legs:from</th>\n",
       "      <th>legs:to</th>\n",
       "      <th>distance</th>\n",
       "      <th>Unnamed: 7</th>\n",
       "      <th>tank_capacity</th>\n",
       "      <th>Unnamed: 9</th>\n",
       "      <th>safety_margin</th>\n",
       "      <th>Unnamed: 11</th>\n",
       "      <th>max_purchase</th>\n",
       "    </tr>\n",
       "  </thead>\n",
       "  <tbody>\n",
       "    <tr>\n",
       "      <th>0</th>\n",
       "      <td>LA</td>\n",
       "      <td>0.88</td>\n",
       "      <td>MIA</td>\n",
       "      <td>NaN</td>\n",
       "      <td>LA</td>\n",
       "      <td>HOU</td>\n",
       "      <td>1500</td>\n",
       "      <td>NaN</td>\n",
       "      <td>14000.0</td>\n",
       "      <td>NaN</td>\n",
       "      <td>600.0</td>\n",
       "      <td>NaN</td>\n",
       "      <td>12000.0</td>\n",
       "    </tr>\n",
       "    <tr>\n",
       "      <th>1</th>\n",
       "      <td>HOU</td>\n",
       "      <td>0.15</td>\n",
       "      <td>LA</td>\n",
       "      <td>NaN</td>\n",
       "      <td>HOU</td>\n",
       "      <td>NY</td>\n",
       "      <td>1700</td>\n",
       "      <td>NaN</td>\n",
       "      <td>NaN</td>\n",
       "      <td>NaN</td>\n",
       "      <td>NaN</td>\n",
       "      <td>NaN</td>\n",
       "      <td>NaN</td>\n",
       "    </tr>\n",
       "    <tr>\n",
       "      <th>2</th>\n",
       "      <td>NY</td>\n",
       "      <td>1.05</td>\n",
       "      <td>HOU</td>\n",
       "      <td>NaN</td>\n",
       "      <td>NY</td>\n",
       "      <td>MIA</td>\n",
       "      <td>1300</td>\n",
       "      <td>NaN</td>\n",
       "      <td>NaN</td>\n",
       "      <td>NaN</td>\n",
       "      <td>NaN</td>\n",
       "      <td>NaN</td>\n",
       "      <td>NaN</td>\n",
       "    </tr>\n",
       "    <tr>\n",
       "      <th>3</th>\n",
       "      <td>MIA</td>\n",
       "      <td>0.95</td>\n",
       "      <td>NY</td>\n",
       "      <td>NaN</td>\n",
       "      <td>MIA</td>\n",
       "      <td>LA</td>\n",
       "      <td>2700</td>\n",
       "      <td>NaN</td>\n",
       "      <td>NaN</td>\n",
       "      <td>NaN</td>\n",
       "      <td>NaN</td>\n",
       "      <td>NaN</td>\n",
       "      <td>NaN</td>\n",
       "    </tr>\n",
       "  </tbody>\n",
       "</table>\n",
       "</div>"
      ],
      "text/plain": [
       "  city  fuel_cost predecessor  Unnamed: 3 legs:from legs:to  distance  \\\n",
       "0   LA       0.88         MIA         NaN        LA     HOU      1500   \n",
       "1  HOU       0.15          LA         NaN       HOU      NY      1700   \n",
       "2   NY       1.05         HOU         NaN        NY     MIA      1300   \n",
       "3  MIA       0.95          NY         NaN       MIA      LA      2700   \n",
       "\n",
       "   Unnamed: 7  tank_capacity  Unnamed: 9  safety_margin  Unnamed: 11  \\\n",
       "0         NaN        14000.0         NaN          600.0          NaN   \n",
       "1         NaN            NaN         NaN            NaN          NaN   \n",
       "2         NaN            NaN         NaN            NaN          NaN   \n",
       "3         NaN            NaN         NaN            NaN          NaN   \n",
       "\n",
       "   max_purchase  \n",
       "0       12000.0  \n",
       "1           NaN  \n",
       "2           NaN  \n",
       "3           NaN  "
      ]
     },
     "execution_count": 2,
     "metadata": {},
     "output_type": "execute_result"
    }
   ],
   "source": [
    "# Read data\n",
    "df = pd.read_excel(\"Data/jet_fuel.xlsx\", sheet_name=\"jet-fuel\")\n",
    "df"
   ]
  },
  {
   "cell_type": "code",
   "execution_count": 3,
   "metadata": {},
   "outputs": [],
   "source": [
    "# Extract data\n",
    "cities, fuel_cost, pred_city = gp.multidict(\n",
    "    {city: [cost, pred] for city, cost, pred in zip(df[\"city\"], df[\"fuel_cost\"], df[\"predecessor\"])}\n",
    ")\n",
    "tank_capacity = df[\"tank_capacity\"].dropna().values[0]\n",
    "safety_margin = df[\"safety_margin\"].dropna().values[0]\n",
    "max_purchase = df[\"max_purchase\"].dropna().values[0]\n",
    "routes, distances= gp.multidict(\n",
    "    {(origin, destination): distance for origin, destination, distance in zip(df[\"legs:from\"], df[\"legs:to\"], df[\"distance\"])}\n",
    ")"
   ]
  },
  {
   "cell_type": "code",
   "execution_count": 4,
   "metadata": {},
   "outputs": [
    {
     "name": "stdout",
     "output_type": "stream",
     "text": [
      "Set parameter Username\n"
     ]
    }
   ],
   "source": [
    "### ________ Model ________\n",
    "model = gp.Model(\"jet-fuel\")"
   ]
  },
  {
   "cell_type": "markdown",
   "metadata": {},
   "source": [
    "**Variables**\n",
    "- Fuel purchased at city $i$ be $x_i$\n",
    "- Fuel at take-off at city $i$ be $y_i$\n",
    "- Fuel at landing at city $i$ be $z_i$"
   ]
  },
  {
   "cell_type": "code",
   "execution_count": 5,
   "metadata": {},
   "outputs": [],
   "source": [
    "### ________ Variables ________\n",
    "x = model.addVars(cities, ub=max_purchase, vtype=GRB.CONTINUOUS, name=\"x\")\n",
    "y = model.addVars(cities, ub=tank_capacity, vtype=GRB.CONTINUOUS, name=\"y\")\n",
    "z = model.addVars(cities, lb=safety_margin, vtype=GRB.CONTINUOUS, name=\"z\")"
   ]
  },
  {
   "cell_type": "markdown",
   "metadata": {},
   "source": [
    "**Objective**\n",
    "\n",
    "Minimize total cost\n",
    "$$\\min \\sum_ic_ix_i$$"
   ]
  },
  {
   "cell_type": "code",
   "execution_count": 6,
   "metadata": {},
   "outputs": [],
   "source": [
    "### ________ Objective ________\n",
    "model.setObjective(x.prod(fuel_cost), sense=GRB.MINIMIZE)"
   ]
  },
  {
   "cell_type": "markdown",
   "metadata": {},
   "source": [
    "**Constraints**\n",
    "- Tank capacity $y_i \\le T$ for all cities $i$\n",
    "- Meet minimum safety margin $z_i \\ge S$ for all cities $i$\n",
    "- Purchase limit at each city $x_i \\le M$ for all cities $i$\n",
    "- Non-negativity for all variables\n",
    "- Fuel balance on ground: (Fuel landed with) + (Fuel puchased) = (Fuel taken off with) for all cities $i$\n",
    "$$z_i+x_i=y_i$$\n",
    "- Fuel balance on air: (Fuel taken off with at the city before $i$) - (Fuel used in flight from the city before $i$ to $i$) = (Fuel landed with at city $i$) for all cities $i$\n",
    "$$y_{Pred(i)} - \\left[ 1 + \\frac {1} {2000} \\left( \\frac {y_{Pred(i)} + z_{i}} {2}  \\right) \\right] d_{Pred(i)} = z_i$$\n"
   ]
  },
  {
   "cell_type": "code",
   "execution_count": 7,
   "metadata": {},
   "outputs": [
    {
     "name": "stdout",
     "output_type": "stream",
     "text": [
      "Gurobi Optimizer version 11.0.1 build v11.0.1rc0 (win64 - Windows 10.0 (19045.2))\n",
      "\n",
      "CPU model: 12th Gen Intel(R) Core(TM) i7-12850HX, instruction set [SSE2|AVX|AVX2]\n",
      "Thread count: 16 physical cores, 24 logical processors, using up to 24 threads\n",
      "\n",
      "Optimize a model with 8 rows, 12 columns and 20 nonzeros\n",
      "Model fingerprint: 0x8c25b3d7\n",
      "Coefficient statistics:\n",
      "  Matrix range     [3e-01, 2e+00]\n",
      "  Objective range  [1e-01, 1e+00]\n",
      "  Bounds range     [6e+02, 1e+04]\n",
      "  RHS range        [1e+03, 3e+03]\n",
      "Presolve removed 4 rows and 4 columns\n",
      "Presolve time: 0.01s\n",
      "Presolved: 4 rows, 8 columns, 12 nonzeros\n",
      "\n",
      "Iteration    Objective       Primal Inf.    Dual Inf.      Time\n",
      "       0    7.2809734e+03   1.733792e+03   0.000000e+00      0s\n",
      "       3    1.4424468e+04   0.000000e+00   0.000000e+00      0s\n",
      "\n",
      "Solved in 3 iterations and 0.01 seconds (0.00 work units)\n",
      "Optimal objective  1.442446792e+04\n"
     ]
    }
   ],
   "source": [
    "### ________ Constraints ________\n",
    "# Bounded constraints are included in variables definition\n",
    "# Non-negativity is built into variables definitions as default unless specified otherwise\n",
    "model.addConstrs((z[i] + x[i] == y[i] for i in cities), name=\"ground_balance\")\n",
    "model.addConstrs((y[pred_city[i]] - (1 + 0.5 * (y[pred_city[i]] + z[i]) / 2000) * distances[(pred_city[i], i)] == z[i] for i in cities), name=\"air_balance\")\n",
    "\n",
    "### ________ Optimize ________\n",
    "model.optimize()"
   ]
  },
  {
   "cell_type": "code",
   "execution_count": 8,
   "metadata": {},
   "outputs": [
    {
     "name": "stdout",
     "output_type": "stream",
     "text": [
      "Fuel cost: $14424.0\n",
      "\n",
      " ******************************************************* \n",
      "\n",
      "     Fuel at landing at city LA: 600.0 gallons.\n",
      "     Fuel purchased at city LA: 3120.0 gallons.\n",
      "     Fuel at takeoff at city LA: 3720.0 gallons.\n",
      "\n",
      " ******************************************************* \n",
      "\n",
      "     Fuel at landing at city HOU: 600.0 gallons.\n",
      "     Fuel purchased at city HOU: 12000.0 gallons.\n",
      "     Fuel at takeoff at city HOU: 12600.0 gallons.\n",
      "\n",
      " ******************************************************* \n",
      "\n",
      "     Fuel at landing at city NY: 3891.0 gallons.\n",
      "     Fuel purchased at city NY: 0.0 gallons.\n",
      "     Fuel at takeoff at city NY: 3891.0 gallons.\n",
      "\n",
      " ******************************************************* \n",
      "\n",
      "     Fuel at landing at city MIA: 1001.0 gallons.\n",
      "     Fuel purchased at city MIA: 10399.0 gallons.\n",
      "     Fuel at takeoff at city MIA: 11400.0 gallons.\n"
     ]
    }
   ],
   "source": [
    "print(f\"Fuel cost: ${round(model.ObjVal, 0)}\")\n",
    "for city in cities:\n",
    "    print(\"\\n\" ,\"*\" * 55, \"\\n\")\n",
    "    print(f\"     Fuel at landing at city {city}: {round(z[city].X, 0)} gallons.\")\n",
    "    print(f\"     Fuel purchased at city {city}: {round(x[city].X, 0)} gallons.\")\n",
    "    print(f\"     Fuel at takeoff at city {city}: {round(y[city].X, 0)} gallons.\")"
   ]
  }
 ],
 "metadata": {
  "kernelspec": {
   "display_name": "ds",
   "language": "python",
   "name": "python3"
  },
  "language_info": {
   "codemirror_mode": {
    "name": "ipython",
    "version": 3
   },
   "file_extension": ".py",
   "mimetype": "text/x-python",
   "name": "python",
   "nbconvert_exporter": "python",
   "pygments_lexer": "ipython3",
   "version": "3.12.2"
  }
 },
 "nbformat": 4,
 "nbformat_minor": 2
}
