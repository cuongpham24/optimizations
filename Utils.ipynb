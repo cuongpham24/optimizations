{
 "cells": [
  {
   "cell_type": "code",
   "execution_count": 2,
   "metadata": {},
   "outputs": [],
   "source": [
    "import pandas as pd\n",
    "import numpy as np\n",
    "import itertools"
   ]
  },
  {
   "cell_type": "code",
   "execution_count": 3,
   "metadata": {},
   "outputs": [
    {
     "data": {
      "text/html": [
       "<div>\n",
       "<style scoped>\n",
       "    .dataframe tbody tr th:only-of-type {\n",
       "        vertical-align: middle;\n",
       "    }\n",
       "\n",
       "    .dataframe tbody tr th {\n",
       "        vertical-align: top;\n",
       "    }\n",
       "\n",
       "    .dataframe thead th {\n",
       "        text-align: right;\n",
       "    }\n",
       "</style>\n",
       "<table border=\"1\" class=\"dataframe\">\n",
       "  <thead>\n",
       "    <tr style=\"text-align: right;\">\n",
       "      <th></th>\n",
       "      <th>Length</th>\n",
       "      <th>Demand</th>\n",
       "    </tr>\n",
       "  </thead>\n",
       "  <tbody>\n",
       "    <tr>\n",
       "      <th>0</th>\n",
       "      <td>179.94</td>\n",
       "      <td>8</td>\n",
       "    </tr>\n",
       "    <tr>\n",
       "      <th>1</th>\n",
       "      <td>168.06</td>\n",
       "      <td>104</td>\n",
       "    </tr>\n",
       "    <tr>\n",
       "      <th>2</th>\n",
       "      <td>167.93</td>\n",
       "      <td>104</td>\n",
       "    </tr>\n",
       "    <tr>\n",
       "      <th>3</th>\n",
       "      <td>155.29</td>\n",
       "      <td>104</td>\n",
       "    </tr>\n",
       "    <tr>\n",
       "      <th>4</th>\n",
       "      <td>155.03</td>\n",
       "      <td>104</td>\n",
       "    </tr>\n",
       "    <tr>\n",
       "      <th>5</th>\n",
       "      <td>61.98</td>\n",
       "      <td>104</td>\n",
       "    </tr>\n",
       "    <tr>\n",
       "      <th>6</th>\n",
       "      <td>61.73</td>\n",
       "      <td>104</td>\n",
       "    </tr>\n",
       "    <tr>\n",
       "      <th>7</th>\n",
       "      <td>49.39</td>\n",
       "      <td>4</td>\n",
       "    </tr>\n",
       "    <tr>\n",
       "      <th>8</th>\n",
       "      <td>44.62</td>\n",
       "      <td>2</td>\n",
       "    </tr>\n",
       "    <tr>\n",
       "      <th>9</th>\n",
       "      <td>20.68</td>\n",
       "      <td>104</td>\n",
       "    </tr>\n",
       "    <tr>\n",
       "      <th>10</th>\n",
       "      <td>19.81</td>\n",
       "      <td>104</td>\n",
       "    </tr>\n",
       "    <tr>\n",
       "      <th>11</th>\n",
       "      <td>12.20</td>\n",
       "      <td>208</td>\n",
       "    </tr>\n",
       "    <tr>\n",
       "      <th>12</th>\n",
       "      <td>3.25</td>\n",
       "      <td>104</td>\n",
       "    </tr>\n",
       "    <tr>\n",
       "      <th>13</th>\n",
       "      <td>3.00</td>\n",
       "      <td>104</td>\n",
       "    </tr>\n",
       "  </tbody>\n",
       "</table>\n",
       "</div>"
      ],
      "text/plain": [
       "    Length  Demand\n",
       "0   179.94       8\n",
       "1   168.06     104\n",
       "2   167.93     104\n",
       "3   155.29     104\n",
       "4   155.03     104\n",
       "5    61.98     104\n",
       "6    61.73     104\n",
       "7    49.39       4\n",
       "8    44.62       2\n",
       "9    20.68     104\n",
       "10   19.81     104\n",
       "11   12.20     208\n",
       "12    3.25     104\n",
       "13    3.00     104"
      ]
     },
     "execution_count": 3,
     "metadata": {},
     "output_type": "execute_result"
    }
   ],
   "source": [
    "# Length of each original bar (in)\n",
    "L = 182\n",
    "\n",
    "# Bar data\n",
    "bar_data = pd.read_excel(\"./Data/bar_data.xlsx\")\n",
    "\n",
    "# Number of cut bars\n",
    "M = len(bar_data)\n",
    "\n",
    "# length of each bar (in)\n",
    "l = bar_data.Length\n",
    "\n",
    "# Demand of each bar (bars)\n",
    "D = bar_data.Demand\n",
    "\n",
    "bar_data"
   ]
  },
  {
   "cell_type": "code",
   "execution_count": 10,
   "metadata": {},
   "outputs": [],
   "source": [
    "combinations = list(itertools.product([0, 1], repeat=M))\n",
    "combinations = np.array(combinations)\n",
    "filter = ((combinations * l.to_numpy()).sum(axis=1) <= L) & ((combinations * l.to_numpy()).sum(axis=1) > 0)\n",
    "patterns = combinations[filter]"
   ]
  },
  {
   "cell_type": "code",
   "execution_count": 18,
   "metadata": {},
   "outputs": [
    {
     "data": {
      "text/plain": [
       "(1660, (430, 14))"
      ]
     },
     "execution_count": 18,
     "metadata": {},
     "output_type": "execute_result"
    }
   ],
   "source": [
    "patterns.sum(), patterns.shape"
   ]
  },
  {
   "cell_type": "code",
   "execution_count": 4,
   "metadata": {},
   "outputs": [
    {
     "data": {
      "text/plain": [
       "3294"
      ]
     },
     "execution_count": 4,
     "metadata": {},
     "output_type": "execute_result"
    }
   ],
   "source": [
    "import itertools\n",
    "\n",
    "def find_combinations(x, n, L, repeat):\n",
    "    \"\"\"\n",
    "    Find all possible linear combinations of x1, ..., x5 such that\n",
    "    a1*x1 + a2*x2 + ... + a5*x5 < L, where a1, ..., a5 are integers from 0 to n.\n",
    "    \n",
    "    Parameters:\n",
    "    x (list): List of variables [x1, x2, x3, x4, x5]\n",
    "    n (int): Upper limit for the values of a1, ..., a5\n",
    "    L (int): Threshold value\n",
    "    \n",
    "    Returns:\n",
    "    list: List of valid combinations (a1, ..., a5)\n",
    "    \"\"\"\n",
    "    valid_combinations = []\n",
    "    \n",
    "    # Generate all possible combinations of a1, a2, a3, a4, a5 from 0 to n\n",
    "    for a in itertools.product(range(n+1), repeat=repeat):\n",
    "        # Calculate the linear combination\n",
    "        linear_combination = sum(a_i * x_i for a_i, x_i in zip(a, x))\n",
    "        \n",
    "        # Check if the linear combination is less than L\n",
    "        if linear_combination < L:\n",
    "            valid_combinations.append(a)\n",
    "    \n",
    "        # valid_combinations.append(a)\n",
    "\n",
    "    return valid_combinations\n",
    "\n",
    "\n",
    "combinations = find_combinations(l, 2, 182, len(l))\n",
    "len(combinations)\n"
   ]
  },
  {
   "cell_type": "code",
   "execution_count": null,
   "metadata": {},
   "outputs": [],
   "source": []
  }
 ],
 "metadata": {
  "kernelspec": {
   "display_name": "ds",
   "language": "python",
   "name": "python3"
  },
  "language_info": {
   "codemirror_mode": {
    "name": "ipython",
    "version": 3
   },
   "file_extension": ".py",
   "mimetype": "text/x-python",
   "name": "python",
   "nbconvert_exporter": "python",
   "pygments_lexer": "ipython3",
   "version": "3.12.2"
  }
 },
 "nbformat": 4,
 "nbformat_minor": 2
}
